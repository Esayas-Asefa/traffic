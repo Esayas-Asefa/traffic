{
 "cells": [
  {
   "cell_type": "code",
   "execution_count": 1,
   "id": "cd50cffb",
   "metadata": {},
   "outputs": [],
   "source": [
    "import pandas as pd\n",
    "import numpy as np\n",
    "\n",
    "import matplotlib.pyplot as plt\n",
    "import seaborn as sns\n",
    "\n",
    "import prepare as prep\n",
    "import acquire as acq\n",
    "import explore as exp\n",
    "\n",
    "\n",
    "import env "
   ]
  },
  {
   "cell_type": "code",
   "execution_count": null,
   "id": "dcbdecfd-5e73-4bb5-81e1-b987d609f1a0",
   "metadata": {},
   "outputs": [],
   "source": []
  },
  {
   "cell_type": "code",
   "execution_count": 2,
   "id": "38dfe88b",
   "metadata": {
    "scrolled": true
   },
   "outputs": [],
   "source": [
    "df = acq.get_traffic_data()"
   ]
  },
  {
   "cell_type": "code",
   "execution_count": 3,
   "id": "85ba611c",
   "metadata": {
    "collapsed": true,
    "jupyter": {
     "outputs_hidden": true
    },
    "tags": []
   },
   "outputs": [
    {
     "name": "stderr",
     "output_type": "stream",
     "text": [
      "/Users/esayasa./Desktop/Git_repositories/individual-project-1/prepare.py:18: SettingWithCopyWarning: \n",
      "A value is trying to be set on a copy of a slice from a DataFrame\n",
      "\n",
      "See the caveats in the documentation: https://pandas.pydata.org/pandas-docs/stable/user_guide/indexing.html#returning-a-view-versus-a-copy\n",
      "  df.rename(columns=column_mapping, inplace=True)\n",
      "/Users/esayasa./Desktop/Git_repositories/individual-project-1/prepare.py:19: SettingWithCopyWarning: \n",
      "A value is trying to be set on a copy of a slice from a DataFrame\n",
      "\n",
      "See the caveats in the documentation: https://pandas.pydata.org/pandas-docs/stable/user_guide/indexing.html#returning-a-view-versus-a-copy\n",
      "  df.dropna(subset=['City'], inplace=True)\n",
      "/Users/esayasa./Desktop/Git_repositories/individual-project-1/prepare.py:20: SettingWithCopyWarning: \n",
      "A value is trying to be set on a copy of a slice from a DataFrame\n",
      "\n",
      "See the caveats in the documentation: https://pandas.pydata.org/pandas-docs/stable/user_guide/indexing.html#returning-a-view-versus-a-copy\n",
      "  df.dropna(subset=['Zipcode'], inplace=True)\n",
      "/Users/esayasa./Desktop/Git_repositories/individual-project-1/prepare.py:21: SettingWithCopyWarning: \n",
      "A value is trying to be set on a copy of a slice from a DataFrame\n",
      "\n",
      "See the caveats in the documentation: https://pandas.pydata.org/pandas-docs/stable/user_guide/indexing.html#returning-a-view-versus-a-copy\n",
      "  df.rename(columns=lambda x: x.lower(), inplace=True)\n",
      "/Users/esayasa./Desktop/Git_repositories/individual-project-1/prepare.py:23: SettingWithCopyWarning: \n",
      "A value is trying to be set on a copy of a slice from a DataFrame\n",
      "\n",
      "See the caveats in the documentation: https://pandas.pydata.org/pandas-docs/stable/user_guide/indexing.html#returning-a-view-versus-a-copy\n",
      "  df.drop(columns=['id', 'start_lat', 'start_lng', 'end_lat', 'end_lng', 'timezone', 'airport_code', 'weather_timestamp',\n",
      "/Users/esayasa./Desktop/Git_repositories/individual-project-1/prepare.py:25: SettingWithCopyWarning: \n",
      "A value is trying to be set on a copy of a slice from a DataFrame\n",
      "\n",
      "See the caveats in the documentation: https://pandas.pydata.org/pandas-docs/stable/user_guide/indexing.html#returning-a-view-versus-a-copy\n",
      "  df.replace({True: 1, False: 0}, inplace=True)\n",
      "/Users/esayasa./Desktop/Git_repositories/individual-project-1/prepare.py:28: SettingWithCopyWarning: \n",
      "A value is trying to be set on a copy of a slice from a DataFrame.\n",
      "Try using .loc[row_indexer,col_indexer] = value instead\n",
      "\n",
      "See the caveats in the documentation: https://pandas.pydata.org/pandas-docs/stable/user_guide/indexing.html#returning-a-view-versus-a-copy\n",
      "  df['start_time'] = pd.to_datetime(df['start_time'], format='%Y-%m-%d')\n",
      "/Users/esayasa./Desktop/Git_repositories/individual-project-1/prepare.py:29: SettingWithCopyWarning: \n",
      "A value is trying to be set on a copy of a slice from a DataFrame.\n",
      "Try using .loc[row_indexer,col_indexer] = value instead\n",
      "\n",
      "See the caveats in the documentation: https://pandas.pydata.org/pandas-docs/stable/user_guide/indexing.html#returning-a-view-versus-a-copy\n",
      "  df['end_time'] = pd.to_datetime(df['end_time'], format='%Y-%m-%d')\n",
      "/Users/esayasa./Desktop/Git_repositories/individual-project-1/prepare.py:30: SettingWithCopyWarning: \n",
      "A value is trying to be set on a copy of a slice from a DataFrame.\n",
      "Try using .loc[row_indexer,col_indexer] = value instead\n",
      "\n",
      "See the caveats in the documentation: https://pandas.pydata.org/pandas-docs/stable/user_guide/indexing.html#returning-a-view-versus-a-copy\n",
      "  df['start_date'] = df['start_time'].dt.date\n",
      "/Users/esayasa./Desktop/Git_repositories/individual-project-1/prepare.py:31: SettingWithCopyWarning: \n",
      "A value is trying to be set on a copy of a slice from a DataFrame.\n",
      "Try using .loc[row_indexer,col_indexer] = value instead\n",
      "\n",
      "See the caveats in the documentation: https://pandas.pydata.org/pandas-docs/stable/user_guide/indexing.html#returning-a-view-versus-a-copy\n",
      "  df['start_date'] = pd.to_datetime(df['start_date'], format='%Y-%m-%d')\n",
      "/Users/esayasa./Desktop/Git_repositories/individual-project-1/prepare.py:32: SettingWithCopyWarning: \n",
      "A value is trying to be set on a copy of a slice from a DataFrame.\n",
      "Try using .loc[row_indexer,col_indexer] = value instead\n",
      "\n",
      "See the caveats in the documentation: https://pandas.pydata.org/pandas-docs/stable/user_guide/indexing.html#returning-a-view-versus-a-copy\n",
      "  df['start_time_'] = df['start_time'].dt.time\n",
      "/Users/esayasa./Desktop/Git_repositories/individual-project-1/prepare.py:33: SettingWithCopyWarning: \n",
      "A value is trying to be set on a copy of a slice from a DataFrame.\n",
      "Try using .loc[row_indexer,col_indexer] = value instead\n",
      "\n",
      "See the caveats in the documentation: https://pandas.pydata.org/pandas-docs/stable/user_guide/indexing.html#returning-a-view-versus-a-copy\n",
      "  df['end_date'] = df['end_time'].dt.date\n",
      "/Users/esayasa./Desktop/Git_repositories/individual-project-1/prepare.py:34: SettingWithCopyWarning: \n",
      "A value is trying to be set on a copy of a slice from a DataFrame.\n",
      "Try using .loc[row_indexer,col_indexer] = value instead\n",
      "\n",
      "See the caveats in the documentation: https://pandas.pydata.org/pandas-docs/stable/user_guide/indexing.html#returning-a-view-versus-a-copy\n",
      "  df['end_date'] = pd.to_datetime(df['end_date'], format='%Y-%m-%d')\n",
      "/Users/esayasa./Desktop/Git_repositories/individual-project-1/prepare.py:35: SettingWithCopyWarning: \n",
      "A value is trying to be set on a copy of a slice from a DataFrame.\n",
      "Try using .loc[row_indexer,col_indexer] = value instead\n",
      "\n",
      "See the caveats in the documentation: https://pandas.pydata.org/pandas-docs/stable/user_guide/indexing.html#returning-a-view-versus-a-copy\n",
      "  df['day_of_week'] = df['start_time'].dt.weekday\n",
      "/Users/esayasa./Desktop/Git_repositories/individual-project-1/prepare.py:36: SettingWithCopyWarning: \n",
      "A value is trying to be set on a copy of a slice from a DataFrame.\n",
      "Try using .loc[row_indexer,col_indexer] = value instead\n",
      "\n",
      "See the caveats in the documentation: https://pandas.pydata.org/pandas-docs/stable/user_guide/indexing.html#returning-a-view-versus-a-copy\n",
      "  df['month'] = df['start_time'].dt.month\n",
      "/Users/esayasa./Desktop/Git_repositories/individual-project-1/prepare.py:37: SettingWithCopyWarning: \n",
      "A value is trying to be set on a copy of a slice from a DataFrame.\n",
      "Try using .loc[row_indexer,col_indexer] = value instead\n",
      "\n",
      "See the caveats in the documentation: https://pandas.pydata.org/pandas-docs/stable/user_guide/indexing.html#returning-a-view-versus-a-copy\n",
      "  df['len_of_affect'] = df.end_time - df.start_time\n",
      "/Users/esayasa./Desktop/Git_repositories/individual-project-1/prepare.py:49: SettingWithCopyWarning: \n",
      "A value is trying to be set on a copy of a slice from a DataFrame.\n",
      "Try using .loc[row_indexer,col_indexer] = value instead\n",
      "\n",
      "See the caveats in the documentation: https://pandas.pydata.org/pandas-docs/stable/user_guide/indexing.html#returning-a-view-versus-a-copy\n",
      "  df['season'] = df['start_date'].dt.month.apply(get_season)\n"
     ]
    }
   ],
   "source": [
    "df = prep.prep_traffic(df)"
   ]
  },
  {
   "cell_type": "code",
   "execution_count": null,
   "id": "f4188659-8f45-4317-b681-91ae5d98b4d5",
   "metadata": {
    "tags": []
   },
   "outputs": [],
   "source": [
    "df.rename(columns=column_mapping, inplace=True)\n",
    "df.dropna(subset=['City'], inplace=True)\n",
    "df.dropna(subset=['Zipcode'], inplace=True)\n",
    "df.rename(columns=lambda x: x.lower(), inplace=True)\n",
    "df.columns = df.columns.str.lower()\n",
    "df.drop(columns=['start_lat', 'start_lng', 'end_lat', 'end_lng', 'timezone', 'airport_code', 'weather_timestamp', \n",
    "               'source', 'civil_twilight', 'nautical_twilight', 'astronomical_twilight', 'description'], inplace=True)\n",
    "df.replace({True: 1, False: 0}, inplace=True)\n",
    "desired_date = '2021-01-01'\n",
    "df['start_time'] >= desired_date\n",
    "df['start_time'] = pd.to_datetime(df['start_time'], format='%Y-%m-%d')\n",
    "df['end_time'] = pd.to_datetime(df['end_time'], format='%Y-%m-%d')\n",
    "df['start_date'] = df['start_time'].dt.date\n",
    "df['start_date'] = pd.to_datetime(df['start_date'], format='%Y-%m-%d')\n",
    "df['start_time_'] = df['start_time'].dt.time\n",
    "df['end_date'] = df['end_time'].dt.date\n",
    "df['end_date'] = pd.to_datetime(df['end_date'], format='%Y-%m-%d')\n",
    "df['day_of_week'] = df['start_time'].dt.weekday\n",
    "df['month'] = df['start_time'].dt.month\n",
    "df['len_of_affect'] = df.end_time - df.start_time\n",
    "def get_season(month):\n",
    "    if month in [12, 1, 2]:\n",
    "        return 'Winter'\n",
    "    elif month in [3, 4, 5]:\n",
    "        return 'Spring'\n",
    "    elif month in [6, 7, 8]:\n",
    "        return 'Summer'\n",
    "    elif month in [9, 10, 11]:\n",
    "        return 'Autumn'\n",
    "    else:\n",
    "        return 'Unknown'\n",
    "df['season'] = df['start_date'].dt.month.apply(get_season)\n",
    "df= df.sort_values(by=['zipcode', 'street'], ascending=[False, True])\n",
    "#df.drop(columns=['end_time', 'end_date', 'start_time', 'start_date'], axis=1, inplace=True)\n",
    "df.replace({'Day': 1, 'Night': 0}, inplace=True)\n"
   ]
  },
  {
   "cell_type": "code",
   "execution_count": 4,
   "id": "fae82cd8-b832-4440-9df3-5e764289a70e",
   "metadata": {},
   "outputs": [
    {
     "data": {
      "text/plain": [
       "(2323662, 40)"
      ]
     },
     "execution_count": 4,
     "metadata": {},
     "output_type": "execute_result"
    }
   ],
   "source": [
    "df.shape"
   ]
  },
  {
   "cell_type": "code",
   "execution_count": 5,
   "id": "86ef5323-2a13-4ce8-aeb2-842dc3c76085",
   "metadata": {
    "tags": []
   },
   "outputs": [
    {
     "name": "stdout",
     "output_type": "stream",
     "text": [
      "<class 'pandas.core.frame.DataFrame'>\n",
      "Int64Index: 2323662 entries, 4426557 to 5424907\n",
      "Data columns (total 40 columns):\n",
      " #   Column             Dtype          \n",
      "---  ------             -----          \n",
      " 0   severity           int64          \n",
      " 1   start_time         datetime64[ns] \n",
      " 2   end_time           datetime64[ns] \n",
      " 3   distance           float64        \n",
      " 4   street             object         \n",
      " 5   city               object         \n",
      " 6   county             object         \n",
      " 7   state              object         \n",
      " 8   zipcode            object         \n",
      " 9   country            object         \n",
      " 10  temp               float64        \n",
      " 11  wind_chill         float64        \n",
      " 12  humidity           float64        \n",
      " 13  pressure           float64        \n",
      " 14  visibility         float64        \n",
      " 15  wind_direction     object         \n",
      " 16  wind_speed_mph     float64        \n",
      " 17  precipitation      float64        \n",
      " 18  weather_condition  object         \n",
      " 19  amenity            int64          \n",
      " 20  bump               int64          \n",
      " 21  crossing           int64          \n",
      " 22  give_way           int64          \n",
      " 23  junction           int64          \n",
      " 24  no_exit            int64          \n",
      " 25  railway            int64          \n",
      " 26  roundabout         int64          \n",
      " 27  station            int64          \n",
      " 28  stop               int64          \n",
      " 29  traffic_calming    int64          \n",
      " 30  traffic_signal     int64          \n",
      " 31  turning_loop       int64          \n",
      " 32  sunrise_sunset     float64        \n",
      " 33  start_date         datetime64[ns] \n",
      " 34  start_time_        object         \n",
      " 35  end_date           datetime64[ns] \n",
      " 36  day_of_week        int64          \n",
      " 37  month              int64          \n",
      " 38  len_of_affect      timedelta64[ns]\n",
      " 39  season             object         \n",
      "dtypes: datetime64[ns](4), float64(9), int64(16), object(10), timedelta64[ns](1)\n",
      "memory usage: 726.9+ MB\n"
     ]
    }
   ],
   "source": [
    "df.info()"
   ]
  },
  {
   "cell_type": "code",
   "execution_count": 6,
   "id": "35a191e6-227c-4cd6-a7f5-942c7d688837",
   "metadata": {},
   "outputs": [],
   "source": [
    "df = prep.remove_outliers(df)"
   ]
  },
  {
   "cell_type": "markdown",
   "id": "df178dc1-e8f3-4689-85cf-003f93739649",
   "metadata": {
    "tags": []
   },
   "source": [
    "#got rid of outliers across all continuous variable features of impact outside of 3 standard deviations\n",
    "columns_to_filter = ['distance', 'temp', 'wind_chill', 'humidity', 'pressure', 'visibility', 'wind_speed_mph', 'precipitation', 'len_of_affect']\n",
    "\n",
    "# Set the threshold for outlier detection (e.g., z-score > 3 is considered an outlier)\n",
    "threshold = 3\n",
    "\n",
    "# Calculate z-scores for the specified columns\n",
    "z_scores = df[columns_to_filter].apply(lambda x: np.abs((x - x.mean()) / x.std()))\n",
    "\n",
    "# Filter the DataFrame to exclude rows with outliers in any of the columns\n",
    "df = df[(z_scores <= threshold).all(axis=1)]\n"
   ]
  },
  {
   "cell_type": "markdown",
   "id": "32f7e14e-d494-4c16-8816-4fc6bd614b99",
   "metadata": {},
   "source": [
    "#getting rid of weather conditions that don't happen enough to be of any significant impact on the dataset since there are 144 weather condition classificaitons\n",
    "\n",
    "condition_counts = df['weather_condition'].value_counts()\n",
    "\n",
    "# Step 2: Filter out the weather conditions that occur less than 70,000 times\n",
    "filtered_conditions = condition_counts[condition_counts >= 70000].index\n",
    "\n",
    "# Step 3: Remove the rows corresponding to the filtered weather conditions\n",
    "df_filtered = df[df['weather_condition'].isin(filtered_conditions)]"
   ]
  },
  {
   "cell_type": "code",
   "execution_count": 7,
   "id": "91c4bb75-d66c-4259-8d9d-0e0d69180fb8",
   "metadata": {},
   "outputs": [
    {
     "data": {
      "text/plain": [
       "(1329374, 40)"
      ]
     },
     "execution_count": 7,
     "metadata": {},
     "output_type": "execute_result"
    }
   ],
   "source": [
    "df.shape"
   ]
  },
  {
   "cell_type": "markdown",
   "id": "afef8e28-cf44-4019-86b9-ab66cde6b0a1",
   "metadata": {},
   "source": [
    "desired_date = pd.to_datetime('2021-01-01')\n",
    "\n",
    "# Filter the DataFrame to include rows from the desired date onward\n",
    "df_filtered = df[df['start_time'] >= desired_date]\n"
   ]
  },
  {
   "cell_type": "code",
   "execution_count": 8,
   "id": "7d04a18b-38ed-4011-9afe-f7bd33c2306b",
   "metadata": {},
   "outputs": [
    {
     "data": {
      "text/plain": [
       "Timestamp('2023-03-31 23:25:30')"
      ]
     },
     "execution_count": 8,
     "metadata": {},
     "output_type": "execute_result"
    }
   ],
   "source": [
    "df.start_time.max()"
   ]
  },
  {
   "cell_type": "code",
   "execution_count": 9,
   "id": "7511fc83-d808-4101-9195-6d209a173a56",
   "metadata": {},
   "outputs": [
    {
     "data": {
      "text/plain": [
       "Timestamp('2016-03-23 05:03:47')"
      ]
     },
     "execution_count": 9,
     "metadata": {},
     "output_type": "execute_result"
    }
   ],
   "source": [
    "df.start_time.min()"
   ]
  },
  {
   "cell_type": "code",
   "execution_count": 10,
   "id": "6ef489a2-c0e8-4c5e-8073-356afff366fc",
   "metadata": {},
   "outputs": [
    {
     "data": {
      "text/plain": [
       "0.0"
      ]
     },
     "execution_count": 10,
     "metadata": {},
     "output_type": "execute_result"
    }
   ],
   "source": [
    "df.distance.min()"
   ]
  },
  {
   "cell_type": "code",
   "execution_count": 11,
   "id": "e225a25b-23d0-4f9e-bd29-9a4549669ed7",
   "metadata": {},
   "outputs": [
    {
     "data": {
      "text/plain": [
       "Timedelta('0 days 01:51:29.718939139')"
      ]
     },
     "execution_count": 11,
     "metadata": {},
     "output_type": "execute_result"
    }
   ],
   "source": [
    "df.len_of_affect.mean()\n",
    "#what is distance?"
   ]
  },
  {
   "cell_type": "code",
   "execution_count": 12,
   "id": "39c8336b-1656-4711-8a9c-eb1cb1673916",
   "metadata": {
    "tags": []
   },
   "outputs": [
    {
     "data": {
      "text/html": [
       "<div>\n",
       "<style scoped>\n",
       "    .dataframe tbody tr th:only-of-type {\n",
       "        vertical-align: middle;\n",
       "    }\n",
       "\n",
       "    .dataframe tbody tr th {\n",
       "        vertical-align: top;\n",
       "    }\n",
       "\n",
       "    .dataframe thead th {\n",
       "        text-align: right;\n",
       "    }\n",
       "</style>\n",
       "<table border=\"1\" class=\"dataframe\">\n",
       "  <thead>\n",
       "    <tr style=\"text-align: right;\">\n",
       "      <th></th>\n",
       "      <th>severity</th>\n",
       "      <th>start_time</th>\n",
       "      <th>end_time</th>\n",
       "      <th>distance</th>\n",
       "      <th>street</th>\n",
       "      <th>city</th>\n",
       "      <th>county</th>\n",
       "      <th>state</th>\n",
       "      <th>zipcode</th>\n",
       "      <th>country</th>\n",
       "      <th>...</th>\n",
       "      <th>traffic_signal</th>\n",
       "      <th>turning_loop</th>\n",
       "      <th>sunrise_sunset</th>\n",
       "      <th>start_date</th>\n",
       "      <th>start_time_</th>\n",
       "      <th>end_date</th>\n",
       "      <th>day_of_week</th>\n",
       "      <th>month</th>\n",
       "      <th>len_of_affect</th>\n",
       "      <th>season</th>\n",
       "    </tr>\n",
       "  </thead>\n",
       "  <tbody>\n",
       "    <tr>\n",
       "      <th>2464929</th>\n",
       "      <td>2</td>\n",
       "      <td>2018-11-22 19:51:38</td>\n",
       "      <td>2018-11-22 20:20:46</td>\n",
       "      <td>0.0</td>\n",
       "      <td>N Shore Rd</td>\n",
       "      <td>Truckee</td>\n",
       "      <td>Nevada</td>\n",
       "      <td>CA</td>\n",
       "      <td>96161-0348</td>\n",
       "      <td>US</td>\n",
       "      <td>...</td>\n",
       "      <td>1</td>\n",
       "      <td>0</td>\n",
       "      <td>0.0</td>\n",
       "      <td>2018-11-22</td>\n",
       "      <td>19:51:38</td>\n",
       "      <td>2018-11-22</td>\n",
       "      <td>3</td>\n",
       "      <td>11</td>\n",
       "      <td>0 days 00:29:08</td>\n",
       "      <td>Autumn</td>\n",
       "    </tr>\n",
       "  </tbody>\n",
       "</table>\n",
       "<p>1 rows × 40 columns</p>\n",
       "</div>"
      ],
      "text/plain": [
       "         severity          start_time            end_time  distance  \\\n",
       "2464929         2 2018-11-22 19:51:38 2018-11-22 20:20:46       0.0   \n",
       "\n",
       "             street     city  county state     zipcode country  ...  \\\n",
       "2464929  N Shore Rd  Truckee  Nevada    CA  96161-0348      US  ...   \n",
       "\n",
       "         traffic_signal  turning_loop  sunrise_sunset  start_date  \\\n",
       "2464929               1             0             0.0  2018-11-22   \n",
       "\n",
       "         start_time_   end_date  day_of_week  month   len_of_affect  season  \n",
       "2464929     19:51:38 2018-11-22            3     11 0 days 00:29:08  Autumn  \n",
       "\n",
       "[1 rows x 40 columns]"
      ]
     },
     "execution_count": 12,
     "metadata": {},
     "output_type": "execute_result"
    }
   ],
   "source": [
    "df.head(1)\n"
   ]
  },
  {
   "cell_type": "markdown",
   "id": "14b3a0af-2d19-40c1-9eb2-94dea0c1801b",
   "metadata": {
    "tags": []
   },
   "source": [
    "# AC (After Conversion (of dataframe to csv))"
   ]
  },
  {
   "cell_type": "code",
   "execution_count": 13,
   "id": "3f56058f-4308-4f6e-b5b3-4160a7faa98e",
   "metadata": {
    "tags": []
   },
   "outputs": [],
   "source": [
    "#the originial dataset was too large to keep incidentally starting over on/running all kernels so I created a csv of the data after cutting out over 5 million rows\n",
    "\n",
    "\n",
    "file_path = 'output.csv'\n",
    "df.to_csv(file_path, index=False)"
   ]
  },
  {
   "cell_type": "code",
   "execution_count": 14,
   "id": "95edd063-df59-4b41-a6fa-a53d0dcddb1e",
   "metadata": {
    "tags": []
   },
   "outputs": [],
   "source": [
    "df = pd.read_csv('output.csv')"
   ]
  },
  {
   "cell_type": "markdown",
   "id": "81adc435-1ed8-4949-9ca9-e39d61da9d42",
   "metadata": {},
   "source": [
    "get rid of outliers for distance, and len_of_affect\n",
    "bin all continuous value columns, index identification\n",
    "get values for weather condition"
   ]
  },
  {
   "cell_type": "code",
   "execution_count": 15,
   "id": "9eb54afe",
   "metadata": {},
   "outputs": [
    {
     "data": {
      "text/html": [
       "<div>\n",
       "<style scoped>\n",
       "    .dataframe tbody tr th:only-of-type {\n",
       "        vertical-align: middle;\n",
       "    }\n",
       "\n",
       "    .dataframe tbody tr th {\n",
       "        vertical-align: top;\n",
       "    }\n",
       "\n",
       "    .dataframe thead th {\n",
       "        text-align: right;\n",
       "    }\n",
       "</style>\n",
       "<table border=\"1\" class=\"dataframe\">\n",
       "  <thead>\n",
       "    <tr style=\"text-align: right;\">\n",
       "      <th></th>\n",
       "      <th>severity</th>\n",
       "      <th>start_time</th>\n",
       "      <th>end_time</th>\n",
       "      <th>distance</th>\n",
       "      <th>street</th>\n",
       "      <th>city</th>\n",
       "      <th>county</th>\n",
       "      <th>state</th>\n",
       "      <th>zipcode</th>\n",
       "      <th>country</th>\n",
       "      <th>...</th>\n",
       "      <th>traffic_signal</th>\n",
       "      <th>turning_loop</th>\n",
       "      <th>sunrise_sunset</th>\n",
       "      <th>start_date</th>\n",
       "      <th>start_time_</th>\n",
       "      <th>end_date</th>\n",
       "      <th>day_of_week</th>\n",
       "      <th>month</th>\n",
       "      <th>len_of_affect</th>\n",
       "      <th>season</th>\n",
       "    </tr>\n",
       "  </thead>\n",
       "  <tbody>\n",
       "    <tr>\n",
       "      <th>0</th>\n",
       "      <td>2</td>\n",
       "      <td>2018-11-22 19:51:38</td>\n",
       "      <td>2018-11-22 20:20:46</td>\n",
       "      <td>0.0</td>\n",
       "      <td>N Shore Rd</td>\n",
       "      <td>Truckee</td>\n",
       "      <td>Nevada</td>\n",
       "      <td>CA</td>\n",
       "      <td>96161-0348</td>\n",
       "      <td>US</td>\n",
       "      <td>...</td>\n",
       "      <td>1</td>\n",
       "      <td>0</td>\n",
       "      <td>0.0</td>\n",
       "      <td>2018-11-22</td>\n",
       "      <td>19:51:38</td>\n",
       "      <td>2018-11-22</td>\n",
       "      <td>3</td>\n",
       "      <td>11</td>\n",
       "      <td>0 days 00:29:08</td>\n",
       "      <td>Autumn</td>\n",
       "    </tr>\n",
       "  </tbody>\n",
       "</table>\n",
       "<p>1 rows × 40 columns</p>\n",
       "</div>"
      ],
      "text/plain": [
       "   severity           start_time             end_time  distance      street  \\\n",
       "0         2  2018-11-22 19:51:38  2018-11-22 20:20:46       0.0  N Shore Rd   \n",
       "\n",
       "      city  county state     zipcode country  ...  traffic_signal  \\\n",
       "0  Truckee  Nevada    CA  96161-0348      US  ...               1   \n",
       "\n",
       "   turning_loop  sunrise_sunset  start_date  start_time_    end_date  \\\n",
       "0             0             0.0  2018-11-22     19:51:38  2018-11-22   \n",
       "\n",
       "   day_of_week  month    len_of_affect  season  \n",
       "0            3     11  0 days 00:29:08  Autumn  \n",
       "\n",
       "[1 rows x 40 columns]"
      ]
     },
     "execution_count": 15,
     "metadata": {},
     "output_type": "execute_result"
    }
   ],
   "source": [
    "df.head(1)"
   ]
  },
  {
   "cell_type": "code",
   "execution_count": 16,
   "id": "a14bc83a",
   "metadata": {
    "tags": []
   },
   "outputs": [
    {
     "name": "stdout",
     "output_type": "stream",
     "text": [
      "<class 'pandas.core.frame.DataFrame'>\n",
      "RangeIndex: 1329374 entries, 0 to 1329373\n",
      "Data columns (total 40 columns):\n",
      " #   Column             Non-Null Count    Dtype  \n",
      "---  ------             --------------    -----  \n",
      " 0   severity           1329374 non-null  int64  \n",
      " 1   start_time         1329374 non-null  object \n",
      " 2   end_time           1329374 non-null  object \n",
      " 3   distance           1329374 non-null  float64\n",
      " 4   street             1326765 non-null  object \n",
      " 5   city               1329374 non-null  object \n",
      " 6   county             1329374 non-null  object \n",
      " 7   state              1329374 non-null  object \n",
      " 8   zipcode            1329374 non-null  object \n",
      " 9   country            1329374 non-null  object \n",
      " 10  temp               1329374 non-null  float64\n",
      " 11  wind_chill         1329374 non-null  float64\n",
      " 12  humidity           1329374 non-null  float64\n",
      " 13  pressure           1329374 non-null  float64\n",
      " 14  visibility         1329374 non-null  float64\n",
      " 15  wind_direction     1329366 non-null  object \n",
      " 16  wind_speed_mph     1329374 non-null  float64\n",
      " 17  precipitation      1329374 non-null  float64\n",
      " 18  weather_condition  1327014 non-null  object \n",
      " 19  amenity            1329374 non-null  int64  \n",
      " 20  bump               1329374 non-null  int64  \n",
      " 21  crossing           1329374 non-null  int64  \n",
      " 22  give_way           1329374 non-null  int64  \n",
      " 23  junction           1329374 non-null  int64  \n",
      " 24  no_exit            1329374 non-null  int64  \n",
      " 25  railway            1329374 non-null  int64  \n",
      " 26  roundabout         1329374 non-null  int64  \n",
      " 27  station            1329374 non-null  int64  \n",
      " 28  stop               1329374 non-null  int64  \n",
      " 29  traffic_calming    1329374 non-null  int64  \n",
      " 30  traffic_signal     1329374 non-null  int64  \n",
      " 31  turning_loop       1329374 non-null  int64  \n",
      " 32  sunrise_sunset     1328583 non-null  float64\n",
      " 33  start_date         1329374 non-null  object \n",
      " 34  start_time_        1329374 non-null  object \n",
      " 35  end_date           1329374 non-null  object \n",
      " 36  day_of_week        1329374 non-null  int64  \n",
      " 37  month              1329374 non-null  int64  \n",
      " 38  len_of_affect      1329374 non-null  object \n",
      " 39  season             1329374 non-null  object \n",
      "dtypes: float64(9), int64(16), object(15)\n",
      "memory usage: 405.7+ MB\n"
     ]
    }
   ],
   "source": [
    "df.info()"
   ]
  },
  {
   "cell_type": "code",
   "execution_count": 17,
   "id": "9aed74eb",
   "metadata": {},
   "outputs": [
    {
     "data": {
      "text/plain": [
       "(1329374, 40)"
      ]
     },
     "execution_count": 17,
     "metadata": {},
     "output_type": "execute_result"
    }
   ],
   "source": [
    "df.shape\n"
   ]
  },
  {
   "cell_type": "markdown",
   "id": "a9de9410",
   "metadata": {},
   "source": [
    "must do calculation to create accident index"
   ]
  },
  {
   "cell_type": "code",
   "execution_count": 18,
   "id": "2d53bab4",
   "metadata": {},
   "outputs": [
    {
     "name": "stdout",
     "output_type": "stream",
     "text": [
      "<class 'pandas.core.frame.DataFrame'>\n",
      "RangeIndex: 1329374 entries, 0 to 1329373\n",
      "Data columns (total 40 columns):\n",
      " #   Column             Non-Null Count    Dtype  \n",
      "---  ------             --------------    -----  \n",
      " 0   severity           1329374 non-null  int64  \n",
      " 1   start_time         1329374 non-null  object \n",
      " 2   end_time           1329374 non-null  object \n",
      " 3   distance           1329374 non-null  float64\n",
      " 4   street             1326765 non-null  object \n",
      " 5   city               1329374 non-null  object \n",
      " 6   county             1329374 non-null  object \n",
      " 7   state              1329374 non-null  object \n",
      " 8   zipcode            1329374 non-null  object \n",
      " 9   country            1329374 non-null  object \n",
      " 10  temp               1329374 non-null  float64\n",
      " 11  wind_chill         1329374 non-null  float64\n",
      " 12  humidity           1329374 non-null  float64\n",
      " 13  pressure           1329374 non-null  float64\n",
      " 14  visibility         1329374 non-null  float64\n",
      " 15  wind_direction     1329366 non-null  object \n",
      " 16  wind_speed_mph     1329374 non-null  float64\n",
      " 17  precipitation      1329374 non-null  float64\n",
      " 18  weather_condition  1327014 non-null  object \n",
      " 19  amenity            1329374 non-null  int64  \n",
      " 20  bump               1329374 non-null  int64  \n",
      " 21  crossing           1329374 non-null  int64  \n",
      " 22  give_way           1329374 non-null  int64  \n",
      " 23  junction           1329374 non-null  int64  \n",
      " 24  no_exit            1329374 non-null  int64  \n",
      " 25  railway            1329374 non-null  int64  \n",
      " 26  roundabout         1329374 non-null  int64  \n",
      " 27  station            1329374 non-null  int64  \n",
      " 28  stop               1329374 non-null  int64  \n",
      " 29  traffic_calming    1329374 non-null  int64  \n",
      " 30  traffic_signal     1329374 non-null  int64  \n",
      " 31  turning_loop       1329374 non-null  int64  \n",
      " 32  sunrise_sunset     1328583 non-null  float64\n",
      " 33  start_date         1329374 non-null  object \n",
      " 34  start_time_        1329374 non-null  object \n",
      " 35  end_date           1329374 non-null  object \n",
      " 36  day_of_week        1329374 non-null  int64  \n",
      " 37  month              1329374 non-null  int64  \n",
      " 38  len_of_affect      1329374 non-null  object \n",
      " 39  season             1329374 non-null  object \n",
      "dtypes: float64(9), int64(16), object(15)\n",
      "memory usage: 405.7+ MB\n"
     ]
    }
   ],
   "source": [
    "df.info()"
   ]
  },
  {
   "cell_type": "code",
   "execution_count": null,
   "id": "c7863cfc",
   "metadata": {},
   "outputs": [],
   "source": [
    "from geopy.geocoders import Nominatim\n"
   ]
  },
  {
   "cell_type": "code",
   "execution_count": null,
   "id": "1d7b1052",
   "metadata": {},
   "outputs": [],
   "source": []
  },
  {
   "cell_type": "code",
   "execution_count": null,
   "id": "1c2de150",
   "metadata": {},
   "outputs": [],
   "source": []
  },
  {
   "cell_type": "code",
   "execution_count": null,
   "id": "c9d34df0",
   "metadata": {},
   "outputs": [],
   "source": []
  },
  {
   "cell_type": "code",
   "execution_count": null,
   "id": "204612ce",
   "metadata": {},
   "outputs": [],
   "source": []
  }
 ],
 "metadata": {
  "kernelspec": {
   "display_name": "Python 3 (ipykernel)",
   "language": "python",
   "name": "python3"
  },
  "language_info": {
   "codemirror_mode": {
    "name": "ipython",
    "version": 3
   },
   "file_extension": ".py",
   "mimetype": "text/x-python",
   "name": "python",
   "nbconvert_exporter": "python",
   "pygments_lexer": "ipython3",
   "version": "3.9.13"
  }
 },
 "nbformat": 4,
 "nbformat_minor": 5
}
